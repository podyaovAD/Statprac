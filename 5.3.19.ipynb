{
 "cells": [
  {
   "cell_type": "code",
   "execution_count": null,
   "metadata": {},
   "outputs": [],
   "source": [
    "import numpy as np\n",
    "import numpy.random as rand\n",
    "a = rand.sample((10,3))\n",
    "print(a)\n",
    "index = (np.abs(a - 0.5)).argmin(axis = 1)\n",
    "i = 0\n",
    "while i < 10:\n",
    "    print(a[i][index[i]])\n",
    "    i =++ 1"
   ]
  },
  {
   "cell_type": "code",
   "execution_count": null,
   "metadata": {},
   "outputs": [],
   "source": [
    "import numpy as np\n",
    "a = np.random.random((6,6))*10\n",
    "print(a)\n",
    "index = a.argmin(axis = 0)\n",
    "i = 0\n",
    "while i < 6:\n",
    "    print(\"\\n\",np.sum(a[i])/a[index[i]][i])\n",
    "    i =++ 1"
   ]
  },
  {
   "cell_type": "code",
   "execution_count": null,
   "metadata": {},
   "outputs": [],
   "source": [
    "import numpy as np\n",
    "x = np.array([6, 2, 0, 3, 0, 0, 5, 7, 0])\n",
    "len = x.shape[0]\n",
    "x = x.tolist()\n",
    "i = 0\n",
    "max = 0\n",
    "while i < len:\n",
    "    try:\n",
    "        i = x.index(0, i, len) + 1\n",
    "    except:\n",
    "        break\n",
    "    if i == len :\n",
    "        break\n",
    "    if max < x[i]: \n",
    "        max = x[i]\n",
    "print(max)"
   ]
  },
  {
   "cell_type": "code",
   "execution_count": null,
   "metadata": {},
   "outputs": [],
   "source": [
    "import numpy as np\n",
    "x = np.ones(10)\n",
    "print(x)\n",
    "index = np.array([0, 1, 2, 3, 5, 5, 5, 8])\n",
    "j = 0\n",
    "while j < 8:\n",
    "    x[index[j]] += 1\n",
    "    j =++ 1\n",
    "print(x)"
   ]
  },
  {
   "cell_type": "code",
   "execution_count": null,
   "metadata": {},
   "outputs": [],
   "source": [
    "import numpy as np\n",
    "k = 10\n",
    "a = np.arange(k * k).reshape(k, k)\n",
    "b = {}\n",
    "i = 0\n",
    "while i < 2*k - 1:\n",
    "    b[i] = []\n",
    "    i =++ 1\n",
    "i = 0\n",
    "while i < k:\n",
    "    j = 0\n",
    "    while j < k:\n",
    "        b.get(i + j).append(a[i][j])\n",
    "        j =++ 1\n",
    "    i =++ 1\n",
    "print(b)"
   ]
  },
  {
   "cell_type": "code",
   "execution_count": null,
   "metadata": {},
   "outputs": [],
   "source": []
  }
 ],
 "metadata": {
  "kernelspec": {
   "display_name": "Python 3",
   "language": "python",
   "name": "python3"
  },
  "language_info": {
   "codemirror_mode": {
    "name": "ipython",
    "version": 3
   },
   "file_extension": ".py",
   "mimetype": "text/x-python",
   "name": "python",
   "nbconvert_exporter": "python",
   "pygments_lexer": "ipython3",
   "version": "3.7.1"
  }
 },
 "nbformat": 4,
 "nbformat_minor": 2
}
